{
  "nbformat": 4,
  "nbformat_minor": 0,
  "metadata": {
    "anaconda-cloud": {},
    "kernelspec": {
      "display_name": "Python 3",
      "language": "python",
      "name": "python3"
    },
    "language_info": {
      "codemirror_mode": {
        "name": "ipython",
        "version": 3
      },
      "file_extension": ".py",
      "mimetype": "text/x-python",
      "name": "python",
      "nbconvert_exporter": "python",
      "pygments_lexer": "ipython3",
      "version": "3.7.6"
    },
    "colab": {
      "name": "Assignment_3_Street_View_House_Numbers.ipynb",
      "provenance": [],
      "collapsed_sections": [],
      "toc_visible": true,
      "machine_shape": "hm",
      "include_colab_link": true
    }
  },
  "cells": [
    {
      "cell_type": "markdown",
      "metadata": {
        "id": "view-in-github",
        "colab_type": "text"
      },
      "source": [
        "<a href=\"https://colab.research.google.com/github/sasi6996/EAI6000/blob/master/Assignment_3_Street_View_House_Numbers.ipynb\" target=\"_parent\"><img src=\"https://colab.research.google.com/assets/colab-badge.svg\" alt=\"Open In Colab\"/></a>"
      ]
    },
    {
      "cell_type": "markdown",
      "metadata": {
        "id": "LGD-Vfytesxf",
        "colab_type": "text"
      },
      "source": [
        "# Street View House Numbers Dataset\n",
        "\n",
        "\n",
        "The [Street View House Numbers Dataset](https://www.openml.org/d/41081) contains 32-by-32 RGB images centered around a single digit of a house number appearing in Google Street View. Many of the images do contain some distractors at the sides. It consists of 10 classes, 1 for each digit. Digit '1' has label 0, '9' has label 8 and '0' has label 9. Your goal is to build a model that recognizes the correct digit."
      ]
    },
    {
      "cell_type": "code",
      "metadata": {
        "id": "8FAlXkmFesxh",
        "colab_type": "code",
        "outputId": "6cd6ed12-1705-4f6b-c181-53ebdca51654",
        "colab": {
          "base_uri": "https://localhost:8080/",
          "height": 428
        }
      },
      "source": [
        "%matplotlib inline\n",
        "!pip install openml # Uncomment to run in Google Colab\n",
        "import openml as oml\n",
        "import numpy as np\n",
        "import matplotlib.pyplot as plt\n",
        "import sklearn\n",
        "import pickle\n",
        "import time"
      ],
      "execution_count": 4,
      "outputs": [
        {
          "output_type": "stream",
          "text": [
            "Requirement already satisfied: openml in /usr/local/lib/python3.6/dist-packages (0.10.2)\n",
            "Requirement already satisfied: python-dateutil in /usr/local/lib/python3.6/dist-packages (from openml) (2.6.1)\n",
            "Requirement already satisfied: scipy>=0.13.3 in /usr/local/lib/python3.6/dist-packages (from openml) (1.4.1)\n",
            "Requirement already satisfied: xmltodict in /usr/local/lib/python3.6/dist-packages (from openml) (0.12.0)\n",
            "Requirement already satisfied: liac-arff>=2.4.0 in /usr/local/lib/python3.6/dist-packages (from openml) (2.4.0)\n",
            "Collecting scikit-learn>=0.18\n",
            "\u001b[?25l  Downloading https://files.pythonhosted.org/packages/5e/d8/312e03adf4c78663e17d802fe2440072376fee46cada1404f1727ed77a32/scikit_learn-0.22.2.post1-cp36-cp36m-manylinux1_x86_64.whl (7.1MB)\n",
            "\u001b[K     |████████████████████████████████| 7.1MB 3.4MB/s \n",
            "\u001b[?25hRequirement already satisfied: pandas>=0.19.2 in /usr/local/lib/python3.6/dist-packages (from openml) (0.25.3)\n",
            "Requirement already satisfied: requests in /usr/local/lib/python3.6/dist-packages (from openml) (2.21.0)\n",
            "Requirement already satisfied: numpy>=1.6.2 in /usr/local/lib/python3.6/dist-packages (from openml) (1.17.5)\n",
            "Requirement already satisfied: six>=1.5 in /usr/local/lib/python3.6/dist-packages (from python-dateutil->openml) (1.12.0)\n",
            "Requirement already satisfied: joblib>=0.11 in /usr/local/lib/python3.6/dist-packages (from scikit-learn>=0.18->openml) (0.14.1)\n",
            "Requirement already satisfied: pytz>=2017.2 in /usr/local/lib/python3.6/dist-packages (from pandas>=0.19.2->openml) (2018.9)\n",
            "Requirement already satisfied: chardet<3.1.0,>=3.0.2 in /usr/local/lib/python3.6/dist-packages (from requests->openml) (3.0.4)\n",
            "Requirement already satisfied: idna<2.9,>=2.5 in /usr/local/lib/python3.6/dist-packages (from requests->openml) (2.8)\n",
            "Requirement already satisfied: certifi>=2017.4.17 in /usr/local/lib/python3.6/dist-packages (from requests->openml) (2019.11.28)\n",
            "Requirement already satisfied: urllib3<1.25,>=1.21.1 in /usr/local/lib/python3.6/dist-packages (from requests->openml) (1.24.3)\n",
            "Installing collected packages: scikit-learn\n",
            "  Found existing installation: scikit-learn 0.15.0\n",
            "    Uninstalling scikit-learn-0.15.0:\n",
            "      Successfully uninstalled scikit-learn-0.15.0\n",
            "Successfully installed scikit-learn-0.22.2.post1\n"
          ],
          "name": "stdout"
        }
      ]
    },
    {
      "cell_type": "code",
      "metadata": {
        "id": "KBpDMv1Vesxl",
        "colab_type": "code",
        "colab": {}
      },
      "source": [
        "# Download Streetview data. Takes a while to download (5-10 min).\n",
        "SVHN = oml.datasets.get_dataset(41081)\n",
        "X, y, cats, attrs = SVHN.get_data(dataset_format='array',\n",
        "    target=SVHN.default_target_attribute)"
      ],
      "execution_count": 0,
      "outputs": []
    },
    {
      "cell_type": "code",
      "metadata": {
        "id": "lNMKV-mo6uWP",
        "colab_type": "code",
        "outputId": "34698ba2-cf53-4355-9001-3918931105a0",
        "colab": {
          "base_uri": "https://localhost:8080/",
          "height": 54
        }
      },
      "source": [
        "# To save time, you can save the dataset to a Google drive, and load it quickly later\n",
        "from google.colab import drive\n",
        "drive.mount('/content/drive')\n",
        "\n",
        "with open(\"drive/My Drive/SVHN.pkl\", \"wb\") as f:\n",
        "    pickle.dump(X, f, protocol=pickle.HIGHEST_PROTOCOL)\n",
        "    pickle.dump(y, f, protocol=pickle.HIGHEST_PROTOCOL)   \n",
        "    pickle.dump(cats, f, protocol=pickle.HIGHEST_PROTOCOL)\n",
        "    pickle.dump(attrs, f, protocol=pickle.HIGHEST_PROTOCOL)"
      ],
      "execution_count": 7,
      "outputs": [
        {
          "output_type": "stream",
          "text": [
            "Drive already mounted at /content/drive; to attempt to forcibly remount, call drive.mount(\"/content/drive\", force_remount=True).\n"
          ],
          "name": "stdout"
        }
      ]
    },
    {
      "cell_type": "code",
      "metadata": {
        "id": "NNc6MBHe8t4C",
        "colab_type": "code",
        "colab": {}
      },
      "source": [
        "# (Uncomment to) Load SVHN dataset from Google drive\n",
        "# from google.colab import drive\n",
        "# drive.mount('/content/drive')\n",
        "\n",
        "# with open(\"drive/My Drive/SVHN.pkl\", \"rb\") as f:\n",
        "#     X = pickle.load(f)\n",
        "#     y = pickle.load(f)\n",
        "#     cats = pickle.load(f)\n",
        "#     attrs = pickle.load(f)"
      ],
      "execution_count": 0,
      "outputs": []
    },
    {
      "cell_type": "markdown",
      "metadata": {
        "id": "ZC2877HRDqhV",
        "colab_type": "text"
      },
      "source": [
        "### What is the shape of the image data X? How many images are there? Explain why each image has 3072 values."
      ]
    },
    {
      "cell_type": "code",
      "metadata": {
        "id": "OPTaJNbUC35Y",
        "colab_type": "code",
        "outputId": "758fee6e-ef94-4a75-c833-1a7067682a30",
        "colab": {
          "base_uri": "https://localhost:8080/",
          "height": 51
        }
      },
      "source": [
        "with open(\"drive/My Drive/SVHN.pkl\", \"rb\") as f:\n",
        "    X = pickle.load(f)\n",
        "    y = pickle.load(f)\n",
        "    cats = pickle.load(f)\n",
        "    attrs = pickle.load(f)\n",
        "\n",
        "display('Shape of the image data X:', X.shape)\n"
      ],
      "execution_count": 39,
      "outputs": [
        {
          "output_type": "display_data",
          "data": {
            "text/plain": [
              "'Shape of the image data X:'"
            ]
          },
          "metadata": {
            "tags": []
          }
        },
        {
          "output_type": "display_data",
          "data": {
            "text/plain": [
              "(99289, 3072)"
            ]
          },
          "metadata": {
            "tags": []
          }
        }
      ]
    },
    {
      "cell_type": "markdown",
      "metadata": {
        "id": "CdbVIX_zatiS",
        "colab_type": "text"
      },
      "source": [
        "### You can use the following function to plot the first 10 images to get a sense of the data."
      ]
    },
    {
      "cell_type": "code",
      "metadata": {
        "id": "XzE3X5Etesxo",
        "colab_type": "code",
        "outputId": "11c44193-2dea-47d3-d1f9-540f6c8eefd0",
        "colab": {
          "base_uri": "https://localhost:8080/",
          "height": 94
        }
      },
      "source": [
        "# Plots image. Use grayscale=True for plotting grayscale images\n",
        "def plot_images(X, y, grayscale=False):\n",
        "    fig, axes = plt.subplots(1, len(X),  figsize=(10, 5))\n",
        "    if grayscale:\n",
        "        [ax.imshow(X[n].reshape(32, 32)/255, cmap='gray')\n",
        "         for n,ax in enumerate(axes)]\n",
        "    else:\n",
        "        [ax.imshow(X[n].reshape(32, 32, 3)/255) for n,ax in enumerate(axes)]\n",
        "    [ax.set_title((y[n]+1)) for n,ax in enumerate(axes)]\n",
        "    [ax.axis('off') for ax in axes]\n",
        "plot_images(X[0:10], y[0:10]);"
      ],
      "execution_count": 40,
      "outputs": [
        {
          "output_type": "display_data",
          "data": {
            "image/png": "[encoded data removed]",
            "text/plain": [
              "<Figure size 720x360 with 10 Axes>"
            ]
          },
          "metadata": {
            "tags": []
          }
        }
      ]
    },
    {
      "cell_type": "markdown",
      "metadata": {
        "id": "SEOqfNn0WEWn",
        "colab_type": "text"
      },
      "source": [
        "### Next, we will convert the images to greyscale and normalize the data to fall within the range 0 to 1. Plot the first 10 images to verify that the conversion worked."
      ]
    },
    {
      "cell_type": "code",
      "metadata": {
        "id": "TGm8EMxPUmKd",
        "colab_type": "code",
        "colab": {
          "base_uri": "https://localhost:8080/",
          "height": 148
        },
        "outputId": "10e56933-1a09-4508-f505-a7d842e7ff20"
      },
      "source": [
        "def rgb_to_gray(X):   \n",
        "  grayscale_image = np.expand_dims(np.dot((X.reshape(len(X),32*32,3)/255 ),[0.2989, 0.5870, 0.1140]),axis=3)\n",
        "  return grayscale_image\n",
        "\n",
        "X_greyscale=rgb_to_gray(X)\n",
        "\n",
        "def plot_images(X, y, grayscale=True):\n",
        "    fig, axes = plt.subplots(1, len(X),  figsize=(10, 5))\n",
        "    if grayscale:\n",
        "        [ax.imshow(X[n].reshape(32, 32)/255, cmap='gray')\n",
        "         for n,ax in enumerate(axes)]\n",
        "    else:\n",
        "        [ax.imshow(X[n].reshape(32, 32, 3)/255) for n,ax in enumerate(axes)]\n",
        "    [ax.set_title((y[n]+1)) for n,ax in enumerate(axes)]\n",
        "    [ax.axis('off') for ax in axes]\n",
        "plot_images(X_greyscale[0:10], y[0:10]);"
      ],
      "execution_count": 41,
      "outputs": [
        {
          "output_type": "stream",
          "text": [
            "/usr/local/lib/python3.6/dist-packages/ipykernel_launcher.py:2: DeprecationWarning: Both axis > a.ndim and axis < -a.ndim - 1 are deprecated and will raise an AxisError in the future.\n",
            "  \n"
          ],
          "name": "stderr"
        },
        {
          "output_type": "display_data",
          "data": {
            "image/png": "[encoded data removed]",
            "text/plain": [
              "<Figure size 720x360 with 10 Axes>"
            ]
          },
          "metadata": {
            "tags": []
          }
        }
      ]
    },
    {
      "cell_type": "markdown",
      "metadata": {
        "id": "7YYnvhirbCM2",
        "colab_type": "text"
      },
      "source": [
        "### Evaluate different linear models\n",
        "\n",
        "1. To save time, use a stratified 1% subsample of the data. Plot the distribution of the classes (as a histogram) for both the original data and the subsample to verify this was done correctly. (hint: a quick way to do it is to borrow the stratify option with sklearn.model_selection.train_test_split)\n",
        "2. Evaluate k-Nearest Neighbors, Logistic Regression and Linear SVM on this sample, using their default hyperparameter settings. Use cross-validation with 3 folds, output the training accuracy and test accuracy (feel free to reuse code from past assignments). [Time](https://stackoverflow.com/questions/1557571/how-do-i-get-time-of-a-python-programs-execution) how long execution takes.\n",
        "3. Discuss the results. Are they what you expected? Are the models over/underfitting? What should be done to improve the results?\n",
        "4. Now evaluate the same models using 3% of the data. Discuss the results. Is the run time what you expect? Which models perform better or worse than the 1% training? How can you explain this in terms of underfitting/overfitting?"
      ]
    },
    {
      "cell_type": "code",
      "metadata": {
        "id": "_EMh1LuYRv6b",
        "colab_type": "code",
        "colab": {}
      },
      "source": [
        "from sklearn.model_selection import train_test_split, cross_validate\n",
        "from sklearn.linear_model import LogisticRegression\n",
        "from sklearn.svm import LinearSVC\n",
        "from sklearn.neighbors import KNeighborsClassifier\n",
        "\n",
        "# Take a 1% stratified subsample to fasten the experiment\n",
        "X_sample, _, y_sample, _ = train_test_split(X,y, stratify=y, train_size=0.01)"
      ],
      "execution_count": 0,
      "outputs": []
    },
    {
      "cell_type": "code",
      "metadata": {
        "id": "qE7B8vgFbu5Y",
        "colab_type": "code",
        "colab": {
          "base_uri": "https://localhost:8080/",
          "height": 295
        },
        "outputId": "bd898400-93d8-4e68-ff82-152f2607bcef"
      },
      "source": [
        "import matplotlib.pyplot as plt   \n",
        "\n",
        "Image_Data = X\n",
        "plt.hist(Image_Data, histtype = 'bar', rwidth = 5) \n",
        "  \n",
        "plt.xlabel('Image Data X') \n",
        "plt.ylabel('frequency label') \n",
        "plt.title('Histogram for otal Data') \n",
        "  \n",
        "plt.show()"
      ],
      "execution_count": 55,
      "outputs": [
        {
          "output_type": "display_data",
          "data": {
            "image/png": "[encoded data removed]",
            "text/plain": [
              "<Figure size 432x288 with 1 Axes>"
            ]
          },
          "metadata": {
            "tags": []
          }
        }
      ]
    },
    {
      "cell_type": "code",
      "metadata": {
        "id": "LI4BcsHkojAS",
        "colab_type": "code",
        "colab": {
          "base_uri": "https://localhost:8080/",
          "height": 295
        },
        "outputId": "ab4c6afc-8166-479f-d54d-846a1c6d692a"
      },
      "source": [
        "import matplotlib.pyplot as plt   \n",
        "\n",
        "Sample_Data = X_sample\n",
        "plt.hist(Sample_Data, histtype = 'bar', rwidth = 5) \n",
        "  \n",
        "plt.xlabel('Sample Data X') \n",
        "plt.ylabel('frequency label') \n",
        "plt.title('Histogram for Sample Data') \n",
        "  \n",
        "plt.show()"
      ],
      "execution_count": 56,
      "outputs": [
        {
          "output_type": "display_data",
          "data": {
            "image/png": "[encoded data removed]",
            "text/plain": [
              "<Figure size 432x288 with 1 Axes>"
            ]
          },
          "metadata": {
            "tags": []
          }
        }
      ]
    },
    {
      "cell_type": "code",
      "metadata": {
        "id": "1jviPAp8p1HO",
        "colab_type": "code",
        "colab": {}
      },
      "source": [
        "def evaluate_learners(models, Sample_Data, y_sample):\n",
        "    xvals = [cross_validate(m, Sample_Data, y_sample, return_train_score= True, n_jobs=-1) for m in models]\n",
        "    test_scores = [x['test_score'] for x in xvals]\n",
        "    train_scores = [x['train_score'] for x in xvals]\n",
        "    return train_scores, test_scores"
      ],
      "execution_count": 0,
      "outputs": []
    },
    {
      "cell_type": "code",
      "metadata": {
        "id": "m5rFwWZYqHCV",
        "colab_type": "code",
        "colab": {}
      },
      "source": [
        "models = [ LogisticRegression(), LinearSVC(), KNeighborsClassifier()]\n",
        "models = np.array([m for m in models]).flatten()\n",
        "train_scores, test_scores = evaluate_learners(models, Sample_Data, y_sample)"
      ],
      "execution_count": 0,
      "outputs": []
    },
    {
      "cell_type": "code",
      "metadata": {
        "id": "9r4keuiwt2lr",
        "colab_type": "code",
        "colab": {
          "base_uri": "https://localhost:8080/",
          "height": 279
        },
        "outputId": "9ee6e0ef-4f92-4a1f-bf7c-e5a60c2c7145"
      },
      "source": [
        "classifiers = [LogisticRegression(), LinearSVC(), KNeighborsClassifier()]\n",
        "fig, ax = plt.subplots()\n",
        "width=0.3\n",
        "ax.barh(np.arange(len(train_scores)), np.mean(test_scores, axis=1), width,\n",
        "        yerr= np.std(test_scores, axis=1), color='green', label='test')\n",
        "ax.barh(np.arange(len(train_scores))-width, np.mean(train_scores, axis=1), width,\n",
        "        yerr= np.std(train_scores, axis=1), color='red', label='train')\n",
        "for i, te, tr in zip(np.arange(len(train_scores)),test_scores,train_scores):\n",
        "    ax.text(0, i, \"{:.4f} +- {:.4f}\".format(np.mean(te),np.std(te)), color='white', va='center')\n",
        "    ax.text(0, i-width, \"{:.4f} +- {:.4f}\".format(np.mean(tr),np.std(tr)), color='white', va='center')\n",
        "ax.set(yticks=np.arange(len(train_scores))-width/2)\n",
        "ax.set_xlabel('Accuracy')\n",
        "ax.legend(bbox_to_anchor=(1.05, 1), loc=2)\n",
        "\n",
        "plt.show()"
      ],
      "execution_count": 60,
      "outputs": [
        {
          "output_type": "display_data",
          "data": {
            "image/png": "[encoded data removed]",
            "text/plain": [
              "<Figure size 432x288 with 1 Axes>"
            ]
          },
          "metadata": {
            "tags": []
          }
        }
      ]
    },
    {
      "cell_type": "code",
      "metadata": {
        "id": "_V7QLrbv2WmI",
        "colab_type": "code",
        "colab": {
          "base_uri": "https://localhost:8080/",
          "height": 34
        },
        "outputId": "ef76d406-9f5a-4ff4-d13a-ac1239f70fb1"
      },
      "source": [
        "import time\n",
        "start_time = time.time()\n",
        "evaluate_learners(models, Sample_Data, y_sample)\n",
        "print(\"--- %s seconds ---\" % (time.time() - start_time))"
      ],
      "execution_count": 61,
      "outputs": [
        {
          "output_type": "stream",
          "text": [
            "--- 121.21055221557617 seconds ---\n"
          ],
          "name": "stdout"
        }
      ]
    },
    {
      "cell_type": "code",
      "metadata": {
        "id": "dS66Uovp28Hl",
        "colab_type": "code",
        "colab": {}
      },
      "source": [
        "X_sample, _, y_sample, _ = train_test_split(X,y, stratify=y, train_size=0.03)"
      ],
      "execution_count": 0,
      "outputs": []
    },
    {
      "cell_type": "code",
      "metadata": {
        "id": "_EimtpZw4bv_",
        "colab_type": "code",
        "colab": {}
      },
      "source": [
        "def evaluate_learners(models, Sample_Data, y_sample):\n",
        "    xvals = [cross_validate(m, Sample_Data, y_sample, return_train_score= True, n_jobs=-1) for m in models]\n",
        "    test_scores = [x['test_score'] for x in xvals]\n",
        "    train_scores = [x['train_score'] for x in xvals]\n",
        "    return train_scores, test_scores"
      ],
      "execution_count": 0,
      "outputs": []
    },
    {
      "cell_type": "code",
      "metadata": {
        "id": "v0WW2CyG452Z",
        "colab_type": "code",
        "colab": {
          "base_uri": "https://localhost:8080/",
          "height": 71
        },
        "outputId": "8da1110b-92e5-4993-d15e-85d16baa5abd"
      },
      "source": [
        "models = [ LogisticRegression(), LinearSVC(), KNeighborsClassifier()]\n",
        "models = np.array([m for m in models_1]).flatten()\n",
        "train_scores, test_scores = evaluate_learners(models, Sample_Data, y_sample)"
      ],
      "execution_count": 0,
      "outputs": [
        {
          "output_type": "stream",
          "text": [
            "/usr/local/lib/python3.6/dist-packages/joblib/externals/loky/process_executor.py:706: UserWarning: A worker stopped while some jobs were given to the executor. This can be caused by a too short worker timeout or by a memory leak.\n",
            "  \"timeout or by a memory leak.\", UserWarning\n"
          ],
          "name": "stderr"
        }
      ]
    },
    {
      "cell_type": "markdown",
      "metadata": {
        "id": "If0R5VVu4acp",
        "colab_type": "text"
      },
      "source": [
        ""
      ]
    },
    {
      "cell_type": "markdown",
      "metadata": {
        "id": "KXQh7T4VuHCP",
        "colab_type": "text"
      },
      "source": [
        "### Evaluate feed-forward neural network\n",
        "\n",
        "Counter-intuitively, even though the linear models above are slow, you can easily train the small neural network below with 100% of the data in very little time. Learn more about Google Colab if you're curious: https://research.google.com/colaboratory/faq.html \n",
        "1. Train a neural network on the full (100%) data. Start with a single hidden layer with 256 neurons, and the same output layer as this week's Fashion-MNIST lab. Evaluate the accuracy using an 80/20 train test split. How does it compare with the linear models?\n",
        "2. Plot the confusion matrix. Which digits are often confused with each other? \n",
        "3. Plot the first 15 correctly classified examples and the first 15 incorrectly classified examples, along with a bar plot of the predictions array. You can use the provided plotting functions. What sort of errors do you see? Are these indeed 'hard' examples that are easy to get wrong?\n"
      ]
    },
    {
      "cell_type": "code",
      "metadata": {
        "id": "qAqj4k1njcUU",
        "colab_type": "code",
        "colab": {}
      },
      "source": [
        "def plot_image(i, predictions_array, true_label, img):\n",
        "  predictions_array, true_label, img = predictions_array, true_label[i], img[i]\n",
        "  plt.grid(False)\n",
        "  plt.xticks([])\n",
        "  plt.yticks([])\n",
        "\n",
        "  plt.imshow(img, cmap=plt.cm.binary)\n",
        "\n",
        "  predicted_label = np.argmax(predictions_array)\n",
        "  if predicted_label == true_label:\n",
        "    color = 'blue'\n",
        "  else:\n",
        "    color = 'red'\n",
        "\n",
        "  plt.xlabel(\"{} {:2.0f}% ({})\".format(predicted_label+1,\n",
        "                                100*np.max(predictions_array),\n",
        "                                true_label+1),\n",
        "                                color=color)\n",
        "\n",
        "def plot_value_array(i, predictions_array, true_label):\n",
        "  predictions_array, true_label = predictions_array, true_label[i]\n",
        "  plt.grid(False)\n",
        "  plt.xticks([1,2,3,4,5,6,7,8,9,0],rotation=90)\n",
        "  plt.yticks([])\n",
        "  thisplot = plt.bar([1,2,3,4,5,6,7,8,9,0], predictions_array, color=\"#777777\")\n",
        "  plt.ylim([0, 1])\n",
        "  predicted_label = np.argmax(predictions_array)\n",
        "  thisplot[predicted_label].set_color('red')\n",
        "  thisplot[true_label].set_color('blue')"
      ],
      "execution_count": 0,
      "outputs": []
    },
    {
      "cell_type": "code",
      "metadata": {
        "id": "5h6snkwG7sXm",
        "colab_type": "code",
        "colab": {}
      },
      "source": [
        "try:\n",
        "  # %tensorflow_version only exists in Colab.\n",
        "  %tensorflow_version 2.x\n",
        "except Exception:\n",
        "  pass"
      ],
      "execution_count": 0,
      "outputs": []
    },
    {
      "cell_type": "code",
      "metadata": {
        "id": "nYimcXA08UWh",
        "colab_type": "code",
        "colab": {}
      },
      "source": [
        "from _future_ import absolute_import, division, print_function, unicode_literals\n",
        "\n",
        "# TensorFlow and tf.keras\n",
        "import tensorflow as tf\n",
        "from tensorflow import keras\n",
        "\n",
        "# Helper libraries\n",
        "import numpy as np\n",
        "import matplotlib.pyplot as plt\n",
        "\n",
        "print(tf._version_)"
      ],
      "execution_count": 0,
      "outputs": []
    },
    {
      "cell_type": "code",
      "metadata": {
        "id": "VWKg1-cN8bEE",
        "colab_type": "code",
        "colab": {}
      },
      "source": [
        "X_train, X_test , y_train, y_test = train_test_split(X_grayscale.reshape(len(X_grayscale),32,32),y,stratify = y,train_size = 0.8)"
      ],
      "execution_count": 0,
      "outputs": []
    },
    {
      "cell_type": "markdown",
      "metadata": {
        "id": "HqEXUgyYuEVJ",
        "colab_type": "text"
      },
      "source": [
        "Bonus challenge: \n",
        "Can you improve the model performance from this first Keras model?\n",
        "If you wonder about how researchers get to 98% accuracy, here is a list of papers :)\n",
        "https://rodrigob.github.io/are_we_there_yet/build/classification_datasets_results.html#5356484e "
      ]
    },
    {
      "cell_type": "code",
      "metadata": {
        "id": "yJ2zLMHQ8YXm",
        "colab_type": "code",
        "colab": {}
      },
      "source": [
        ""
      ],
      "execution_count": 0,
      "outputs": []
    }
  ]
}